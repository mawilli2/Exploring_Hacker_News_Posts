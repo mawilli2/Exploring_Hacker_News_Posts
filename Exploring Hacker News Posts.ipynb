{
 "cells": [
  {
   "cell_type": "markdown",
   "metadata": {
    "collapsed": true
   },
   "source": [
    "# Exploring Hacker News Posts\n",
    "\n",
    "Hacker News is a social news website geared towards computer science and entrepreneurship. It is run by Paul Graham's investment fund and startup incubator called [Y Combinator](https://www.ycombinator.com/). On the site, users can submit posts that are voted and commented on (like Reddit).\n",
    "\n",
    "The data that we will be using is a subset of this [dataset](https://www.kaggle.com/hacker-news/hacker-news-posts). Our subset contains only observations that have comments, leaving about 20,000 rows.\n",
    "\n",
    "|Column Name|Description|\n",
    "|:------:|:-------:|\n",
    "| `id` | The unique identifier from Hacker News for the post |\n",
    "| `title` | The title of the post\n",
    "| `url` | The URL that the posts links to, if it the post has one\n",
    "| `num_points` | The number of points the post acquired (number of upvotes - number of downvotes) |\n",
    "| `num_comments` | The number of comments that were made on the post |\n",
    "| `author` | The username of the person who submitted the post |\n",
    "|`created_at` | The date and time at which the post was submitted |\n",
    "\n",
    "For our analysis, we will be looking at titles that start with either `Ask HN` or `Show HN`. `Ask HN` posts allow a user to ask the Hacker News Community a question. `Show HN` allows users to show the Hacker News community a project, product, etc.\n",
    "\n",
    "We want to look at these two types of posts to determine:\n",
    "* Do `Ask HN` or `Show HN` recieve more comments on average?\n",
    "* Do posts created at a certain time receive more comments on average?\n",
    "\n",
    "## Introduction\n",
    "\n",
    "Let's start by loading in the Hacker News dataset.\n"
   ]
  },
  {
   "cell_type": "code",
   "execution_count": 1,
   "metadata": {},
   "outputs": [
    {
     "name": "stdout",
     "output_type": "stream",
     "text": [
      "[['id', 'title', 'url', 'num_points', 'num_comments', 'author', 'created_at'], ['12224879', 'Interactive Dynamic Video', 'http://www.interactivedynamicvideo.com/', '386', '52', 'ne0phyte', '8/4/2016 11:52'], ['10975351', 'How to Use Open Source and Shut the Fuck Up at the Same Time', 'http://hueniverse.com/2016/01/26/how-to-use-open-source-and-shut-the-fuck-up-at-the-same-time/', '39', '10', 'josep2', '1/26/2016 19:30'], ['11964716', \"Florida DJs May Face Felony for April Fools' Water Joke\", 'http://www.thewire.com/entertainment/2013/04/florida-djs-april-fools-water-joke/63798/', '2', '1', 'vezycash', '6/23/2016 22:20'], ['11919867', 'Technology ventures: From Idea to Enterprise', 'https://www.amazon.com/Technology-Ventures-Enterprise-Thomas-Byers/dp/0073523429', '3', '1', 'hswarna', '6/17/2016 0:01']]\n"
     ]
    }
   ],
   "source": [
    "# Read in the file\n",
    "from csv import reader\n",
    "opened_file = open('hacker_news.csv')\n",
    "read_file = reader(opened_file)\n",
    "hn = list(read_file)\n",
    "\n",
    "#Print first 5 rows\n",
    "print(hn[:5])\n"
   ]
  },
  {
   "cell_type": "markdown",
   "metadata": {},
   "source": [
    "## Removing the Column Headers\n",
    "\n",
    "In order to start analyzing our data, we must remove the header row."
   ]
  },
  {
   "cell_type": "code",
   "execution_count": 2,
   "metadata": {},
   "outputs": [
    {
     "name": "stdout",
     "output_type": "stream",
     "text": [
      "['id', 'title', 'url', 'num_points', 'num_comments', 'author', 'created_at']\n",
      "\n",
      "\n",
      "[['12224879', 'Interactive Dynamic Video', 'http://www.interactivedynamicvideo.com/', '386', '52', 'ne0phyte', '8/4/2016 11:52'], ['10975351', 'How to Use Open Source and Shut the Fuck Up at the Same Time', 'http://hueniverse.com/2016/01/26/how-to-use-open-source-and-shut-the-fuck-up-at-the-same-time/', '39', '10', 'josep2', '1/26/2016 19:30'], ['11964716', \"Florida DJs May Face Felony for April Fools' Water Joke\", 'http://www.thewire.com/entertainment/2013/04/florida-djs-april-fools-water-joke/63798/', '2', '1', 'vezycash', '6/23/2016 22:20'], ['11919867', 'Technology ventures: From Idea to Enterprise', 'https://www.amazon.com/Technology-Ventures-Enterprise-Thomas-Byers/dp/0073523429', '3', '1', 'hswarna', '6/17/2016 0:01'], ['10301696', 'Note by Note: The Making of Steinway L1037 (2007)', 'http://www.nytimes.com/2007/11/07/movies/07stein.html?_r=0', '8', '2', 'walterbell', '9/30/2015 4:12']]\n"
     ]
    }
   ],
   "source": [
    "# Remove the Header\n",
    "headers = hn[0]\n",
    "hn = hn[1:]\n",
    "print(headers)\n",
    "print(\"\\n\")\n",
    "print(hn[0:5])"
   ]
  },
  {
   "cell_type": "markdown",
   "metadata": {},
   "source": [
    "Each row contains the title of the post, the url in the post, the number of points the post received, the number of comments on the post, the author of the post, and the time the post was created. \n",
    "\n",
    "## Filter Data for Ask HN and Show HN Posts\n",
    "\n",
    "First, we will isolate the posts that begin with either `Ask HN` or `Show HN` and separate those two types of posts into separate lists."
   ]
  },
  {
   "cell_type": "code",
   "execution_count": 3,
   "metadata": {},
   "outputs": [
    {
     "name": "stdout",
     "output_type": "stream",
     "text": [
      "Number of Ask Posts: 1744\n",
      "Number of Show Posts: 1162\n",
      "Number of Other Posts: 17194\n"
     ]
    }
   ],
   "source": [
    "ask_posts = []\n",
    "show_posts = []\n",
    "other_posts = []\n",
    "\n",
    "for post in hn:\n",
    "    title = post[1]\n",
    "    title_lower = title.lower()\n",
    "    if title_lower.startswith(\"ask hn\"):\n",
    "        ask_posts.append(post)\n",
    "    elif title_lower.startswith(\"show hn\"):\n",
    "        show_posts.append(post)\n",
    "    else:\n",
    "        other_posts.append(post)\n",
    "        \n",
    "print(\"Number of Ask Posts: \" + str(len(ask_posts)))\n",
    "\n",
    "print(\"Number of Show Posts: \" + str(len(show_posts)))\n",
    "\n",
    "print(\"Number of Other Posts: \" + str(len(other_posts)))"
   ]
  },
  {
   "cell_type": "markdown",
   "metadata": {},
   "source": [
    "## Calculating the Average Number of Comments on Ask HN and Show HN Posts\n",
    "\n",
    "Now that we have separated the lists, we can do some analysis. Here, we will find the average number of comments for `Ask HN` and `Show HN` posts."
   ]
  },
  {
   "cell_type": "code",
   "execution_count": 4,
   "metadata": {},
   "outputs": [
    {
     "name": "stdout",
     "output_type": "stream",
     "text": [
      "[['12296411', 'Ask HN: How to improve my personal website?', '', '2', '6', 'ahmedbaracat', '8/16/2016 9:55'], ['10610020', 'Ask HN: Am I the only one outraged by Twitter shutting down share counts?', '', '28', '29', 'tkfx', '11/22/2015 13:43'], ['11610310', 'Ask HN: Aby recent changes to CSS that broke mobile?', '', '1', '1', 'polskibus', '5/2/2016 10:14'], ['12210105', 'Ask HN: Looking for Employee #3 How do I do it?', '', '1', '3', 'sph130', '8/2/2016 14:20']]\n"
     ]
    }
   ],
   "source": [
    "print(ask_posts[0:4])"
   ]
  },
  {
   "cell_type": "code",
   "execution_count": 5,
   "metadata": {},
   "outputs": [
    {
     "name": "stdout",
     "output_type": "stream",
     "text": [
      "Average Number of Comments on Ask Posts: 14.038417431192661\n"
     ]
    }
   ],
   "source": [
    "total_ask_comments = 0\n",
    "for post in ask_posts:\n",
    "    total_ask_comments += int(post[4])\n",
    "    \n",
    "avg_ask_comments = total_ask_comments/len(ask_posts)\n",
    "print(\"Average Number of Comments on Ask Posts: \" + str(avg_ask_comments))\n",
    "    "
   ]
  },
  {
   "cell_type": "code",
   "execution_count": 6,
   "metadata": {},
   "outputs": [
    {
     "name": "stdout",
     "output_type": "stream",
     "text": [
      "Average Number of Comments on Show Posts: 10.31669535283993\n"
     ]
    }
   ],
   "source": [
    "total_show_comments = 0\n",
    "for post in show_posts:\n",
    "    total_show_comments += int(post[4])\n",
    "    \n",
    "avg_show_comments = total_show_comments/len(show_posts)\n",
    "print(\"Average Number of Comments on Show Posts: \" + str(avg_show_comments))\n",
    "    "
   ]
  },
  {
   "cell_type": "markdown",
   "metadata": {},
   "source": [
    "On average, `Ask FN` posts tend to have more comments than `Show FN` posts, with `Ask FN` and `Show FN` posts getting 14 and 10 comments respectvely. This makes sense because people are more likely to make a comment when a question is presented. Since the ask posts are more popular, we will direct our attention there.\n",
    "\n",
    "## Calculating the Average Number of Points on Ask HN and Show HN Posts"
   ]
  },
  {
   "cell_type": "code",
   "execution_count": 7,
   "metadata": {},
   "outputs": [
    {
     "name": "stdout",
     "output_type": "stream",
     "text": [
      "Average Number of Points on Ask Posts: 15.061926605504587\n",
      "Average Number of Points on Show Posts: 27.555077452667813\n"
     ]
    }
   ],
   "source": [
    "# Ask Posts Avrg Points\n",
    "total_ask_points = 0\n",
    "for post in ask_posts:\n",
    "    total_ask_points += int(post[3])\n",
    "    \n",
    "avg_ask_points = total_ask_points/len(ask_posts)\n",
    "print(\"Average Number of Points on Ask Posts: \" + str(avg_ask_points))\n",
    "\n",
    "# Show Posts Avrg Points\n",
    "total_show_points = 0\n",
    "for post in show_posts:\n",
    "    total_show_points += int(post[3])\n",
    "    \n",
    "avg_show_points = total_show_points/len(show_posts)\n",
    "print(\"Average Number of Points on Show Posts: \" + str(avg_show_points))\n",
    "    "
   ]
  },
  {
   "cell_type": "markdown",
   "metadata": {},
   "source": [
    "Interesting. `Show FN` posts on average receive more points than `Ask FN` posts. This means that show posts tend to receive around 83% more points than ask posts."
   ]
  },
  {
   "cell_type": "markdown",
   "metadata": {},
   "source": [
    "## Finding the Number of Ask Posts and Comments by the Hour Created\n",
    "\n",
    "We want to test if time has an effect on the amount of comments a post receives. Specifically, is there a certain time that is more like to attract more comments."
   ]
  },
  {
   "cell_type": "code",
   "execution_count": 8,
   "metadata": {},
   "outputs": [
    {
     "data": {
      "text/plain": [
       "{'00': 447,\n",
       " '01': 683,\n",
       " '02': 1381,\n",
       " '03': 421,\n",
       " '04': 337,\n",
       " '05': 464,\n",
       " '06': 397,\n",
       " '07': 267,\n",
       " '08': 492,\n",
       " '09': 251,\n",
       " '10': 793,\n",
       " '11': 641,\n",
       " '12': 687,\n",
       " '13': 1253,\n",
       " '14': 1416,\n",
       " '15': 4477,\n",
       " '16': 1814,\n",
       " '17': 1146,\n",
       " '18': 1439,\n",
       " '19': 1188,\n",
       " '20': 1722,\n",
       " '21': 1745,\n",
       " '22': 479,\n",
       " '23': 543}"
      ]
     },
     "execution_count": 8,
     "metadata": {},
     "output_type": "execute_result"
    }
   ],
   "source": [
    "import datetime as dt\n",
    "\n",
    "result_list = []\n",
    "for post in ask_posts:\n",
    "    date_created = post[6]\n",
    "    num_comments = int(post[4])\n",
    "    result_list.append([date_created, num_comments])\n",
    "    \n",
    "counts_by_hour = {}\n",
    "comments_by_hour = {}\n",
    "\n",
    "for row in result_list:\n",
    "    date = row[0]\n",
    "    comment = row[1]\n",
    "    date_dt = dt.datetime.strptime(date, \"%m/%d/%Y %H:%M\")\n",
    "    hour = date_dt.strftime(\"%H\")\n",
    "    if hour not in counts_by_hour:\n",
    "        counts_by_hour[hour] = 1\n",
    "        comments_by_hour[hour] = comment\n",
    "    else:\n",
    "        counts_by_hour[hour] += 1\n",
    "        comments_by_hour[hour] += comment\n",
    "comments_by_hour"
   ]
  },
  {
   "cell_type": "markdown",
   "metadata": {},
   "source": [
    "## Calculating Average Number of Comments on Ask HN Posts per Hour\n",
    "\n",
    "Below we are going to use our two dictionaries that we created above to find the average number of comments for Ask HN Posts."
   ]
  },
  {
   "cell_type": "code",
   "execution_count": 9,
   "metadata": {},
   "outputs": [
    {
     "data": {
      "text/plain": [
       "[['06', 9.022727272727273],\n",
       " ['17', 11.46],\n",
       " ['16', 16.796296296296298],\n",
       " ['09', 5.5777777777777775],\n",
       " ['13', 14.741176470588234],\n",
       " ['14', 13.233644859813085],\n",
       " ['15', 38.5948275862069],\n",
       " ['20', 21.525],\n",
       " ['08', 10.25],\n",
       " ['02', 23.810344827586206],\n",
       " ['07', 7.852941176470588],\n",
       " ['19', 10.8],\n",
       " ['12', 9.41095890410959],\n",
       " ['00', 8.127272727272727],\n",
       " ['11', 11.051724137931034],\n",
       " ['23', 7.985294117647059],\n",
       " ['22', 6.746478873239437],\n",
       " ['21', 16.009174311926607],\n",
       " ['05', 10.08695652173913],\n",
       " ['01', 11.383333333333333],\n",
       " ['18', 13.20183486238532],\n",
       " ['03', 7.796296296296297],\n",
       " ['04', 7.170212765957447],\n",
       " ['10', 13.440677966101696]]"
      ]
     },
     "execution_count": 9,
     "metadata": {},
     "output_type": "execute_result"
    }
   ],
   "source": [
    "avg_by_hour = []\n",
    "for hour in comments_by_hour:\n",
    "    avg_comments = comments_by_hour[hour] / counts_by_hour[hour]\n",
    "    avg_by_hour.append ([hour, avg_comments])\n",
    "avg_by_hour"
   ]
  },
  {
   "cell_type": "markdown",
   "metadata": {},
   "source": [
    "## Sorting & Printing the Top 5 Values from a List of Lists"
   ]
  },
  {
   "cell_type": "code",
   "execution_count": 10,
   "metadata": {},
   "outputs": [
    {
     "name": "stdout",
     "output_type": "stream",
     "text": [
      "[[9.022727272727273, '06'], [11.46, '17'], [16.796296296296298, '16'], [5.5777777777777775, '09'], [14.741176470588234, '13'], [13.233644859813085, '14'], [38.5948275862069, '15'], [21.525, '20'], [10.25, '08'], [23.810344827586206, '02'], [7.852941176470588, '07'], [10.8, '19'], [9.41095890410959, '12'], [8.127272727272727, '00'], [11.051724137931034, '11'], [7.985294117647059, '23'], [6.746478873239437, '22'], [16.009174311926607, '21'], [10.08695652173913, '05'], [11.383333333333333, '01'], [13.20183486238532, '18'], [7.796296296296297, '03'], [7.170212765957447, '04'], [13.440677966101696, '10']]\n",
      "\n",
      "\n",
      "Top 5 Hours for Ask Posts Comments\n",
      "15:00: 38.59 average comments per post\n",
      "02:00: 23.81 average comments per post\n",
      "20:00: 21.52 average comments per post\n",
      "16:00: 16.80 average comments per post\n",
      "21:00: 16.01 average comments per post\n"
     ]
    }
   ],
   "source": [
    "'''\n",
    "Swap the ordering of the \"Year, Avg_comments\" pairs to be\n",
    "\"Avg_comments, Year\"\n",
    "'''\n",
    "swap_avg_by_hour = []\n",
    "for row in avg_by_hour:\n",
    "    swap_avg_by_hour.append([row[1], row[0]])\n",
    "print(swap_avg_by_hour)\n",
    "print(\"\\n\")\n",
    "\n",
    "# Sort Values by Average Number of Comments in desc order\n",
    "sorted_swap = sorted(swap_avg_by_hour, reverse = True)\n",
    "print(\"Top 5 Hours for Ask Posts Comments\")\n",
    "\n",
    "time_template = \"{}: {:.2f} average comments per post\"\n",
    "for row in sorted_swap[:5]:\n",
    "    hour_dt = dt.datetime.strptime(row[1], \"%H\")\n",
    "    hour_dtf = hour_dt.strftime(\"%H:%M\") \n",
    "    avg_comments = row[0]\n",
    "    print(time_template.format(hour_dtf, avg_comments))"
   ]
  },
  {
   "cell_type": "markdown",
   "metadata": {},
   "source": [
    "In order to have the highest chance of receiving comments, it is recommended to post around 15:00 because it is the hour with the highest average number of comments with 38.59. The chance of getting more comments increases by 62% between 15:00 and the second highest hour (02:00).\n",
    "\n",
    "According to the [documentation](https://www.kaggle.com/hacker-news/hacker-news-posts/home), the time zone is Eastern Standard Time, so 15:00 is equivalent to 3:00 p.m. EST.\n",
    "\n",
    "## Conclusion\n",
    "\n",
    "In this project, we explored ask posts and show posts from Hacker News to determine which type of post and what time receive the most comments on average. We also looked at which type of post received the most points on average. From our calculations, in order to maximize the number of comments a post recieves, posts should be `Ask FN` posts and should be created between 3:00 p.m. - 4:00 p.m. EST. `Show FN` had a higher average number of points, so in order to get more points, `Show FN` is the suggested post type. \n",
    "\n",
    "Note: The dataset we analyzed excluded any posts with 0 comments. With that being said, it is more true to say \"Of the posts with comments, ask posts received more comments than show posts, and ask posts created between 3:00 - 4:00 p.m. EST received the most comments on average.\n"
   ]
  }
 ],
 "metadata": {
  "kernelspec": {
   "display_name": "Python 3",
   "language": "python",
   "name": "python3"
  },
  "language_info": {
   "codemirror_mode": {
    "name": "ipython",
    "version": 3
   },
   "file_extension": ".py",
   "mimetype": "text/x-python",
   "name": "python",
   "nbconvert_exporter": "python",
   "pygments_lexer": "ipython3",
   "version": "3.7.3"
  }
 },
 "nbformat": 4,
 "nbformat_minor": 2
}
